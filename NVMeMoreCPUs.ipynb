{
 "cells": [
  {
   "cell_type": "code",
   "execution_count": 19,
   "metadata": {
    "collapsed": true,
    "pycharm": {
     "name": "#%%\n",
     "is_executing": false
    }
   },
   "outputs": [
    {
     "name": "stdout",
     "text": [
      "Resources/NVMeProblems/nvme_increasingCPUs_flexibleSST/45GB/StorageMaterial.NVMeSSD/4CPU/64MB\n",
      "Resources/NVMeProblems/nvme_increasingCPUs_flexibleSST/45GB/StorageMaterial.NVMeSSD/8CPU/64MB\n",
      "Resources/NVMeProblems/nvme_increasingCPUs_flexibleSST/45GB/StorageMaterial.NVMeSSD/12CPU/64MB\n",
      "['Resources/NVMeProblems/nvme_increasingCPUs_flexibleSST/45GB/StorageMaterial.NVMeSSD/4CPU/64MB/LOG_1290', 'Resources/NVMeProblems/nvme_increasingCPUs_flexibleSST/45GB/StorageMaterial.NVMeSSD/8CPU/64MB/LOG_1330', 'Resources/NVMeProblems/nvme_increasingCPUs_flexibleSST/45GB/StorageMaterial.NVMeSSD/12CPU/64MB/LOG_1310']\n"
     ],
     "output_type": "stream"
    }
   ],
   "source": [
    "import  glob\n",
    "\n",
    "def log_file_path(memtable_size,cpu_count,storage_device=\"StorageMaterial.NVMeSSD\",prefix=\"Resources/\"):\n",
    "    target_path = prefix\n",
    "    \n",
    "    target_path += \"%s/%s/%s\" % (storage_device,\n",
    "               str(cpu_count)+\"CPU\",\n",
    "               str(memtable_size)+\"MB\")\n",
    "    return target_path\n",
    "# you can test it like this\n",
    "\n",
    "def find_log_file(log_dir):\n",
    "    log_file = [filename for filename in glob.glob(\n",
    "                log_dir+\"/**\") if \"LOG\" in filename][0]    \n",
    "    return log_file\n",
    "\n",
    "dir_pres = [\"nvme_increasingCPUs_flexibleSST\"]\n",
    "prefixes = [\"Resources/NVMeProblems/\" + dir_pre + \"/45GB/\" for dir_pre in dir_pres]\n",
    "materials = ['NVMeSSD']\n",
    "cpu_count_array = [4,8,12]\n",
    "memtable_size_array = [64]\n",
    "\n",
    "log_files = []\n",
    "\n",
    "for prefix in prefixes:\n",
    "    for material in materials: \n",
    "        for cpu_count in cpu_count_array:\n",
    "            for memtable_size in memtable_size_array:\n",
    "                log_dir = log_file_path(memtable_size,cpu_count,\n",
    "                                      \"StorageMaterial.\"+material,prefix)\n",
    "                log_files.append(find_log_file(log_dir))\n",
    "\n",
    "print(log_files)"
   ]
  }
 ],
 "metadata": {
  "kernelspec": {
   "display_name": "Python 3",
   "language": "python",
   "name": "python3"
  },
  "language_info": {
   "codemirror_mode": {
    "name": "ipython",
    "version": 2
   },
   "file_extension": ".py",
   "mimetype": "text/x-python",
   "name": "python",
   "nbconvert_exporter": "python",
   "pygments_lexer": "ipython2",
   "version": "2.7.6"
  },
  "pycharm": {
   "stem_cell": {
    "cell_type": "raw",
    "source": [],
    "metadata": {
     "collapsed": false
    }
   }
  }
 },
 "nbformat": 4,
 "nbformat_minor": 0
}