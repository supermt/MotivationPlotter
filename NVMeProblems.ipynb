{
 "cells": [
  {
   "cell_type": "code",
   "execution_count": null,
   "metadata": {
    "collapsed": true
   },
   "outputs": [],
   "source": [
    "def log_file_path(memtable_size,cpu_count,storage_device=\"StorageMaterial.NVMeSSD\",l0_optimized=\"\",workload_size=100,prefix=\"Resources/\"):\n",
    "    target_path = prefix + str(workload_size) +\"GB/\"\n",
    "    if l0_optimized:\n",
    "        target_path = target_path + l0_optimized + \"/\"\n",
    "    \n",
    "    target_path += \"%s/%s/%s\" % (storage_device,\n",
    "               str(cpu_count)+\"CPU\",\n",
    "               str(memtable_size)+\"MB\")\n",
    "    return target_path\n",
    "# you can test it like this\n"
   ]
  }
 ],
 "metadata": {
  "kernelspec": {
   "display_name": "Python 3",
   "language": "python",
   "name": "python3"
  },
  "language_info": {
   "codemirror_mode": {
    "name": "ipython",
    "version": 2
   },
   "file_extension": ".py",
   "mimetype": "text/x-python",
   "name": "python",
   "nbconvert_exporter": "python",
   "pygments_lexer": "ipython2",
   "version": "2.7.6"
  },
  "pycharm": {
   "stem_cell": {
    "cell_type": "raw",
    "source": [],
    "metadata": {
     "collapsed": false
    }
   }
  }
 },
 "nbformat": 4,
 "nbformat_minor": 0
}