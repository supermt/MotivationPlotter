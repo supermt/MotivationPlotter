{
 "cells": [
  {
   "cell_type": "code",
   "execution_count": 1,
   "metadata": {
    "collapsed": true,
    "pycharm": {
     "is_executing": false,
     "name": "#%%\n"
    }
   },
   "outputs": [
    {
     "data": {
      "text/plain": "<Figure size 432x72 with 1 Axes>",
      "image/png": "[encoded data removed]"
     },
     "metadata": {
      "needs_background": "light"
     },
     "output_type": "display_data"
    }
   ],
   "source": [
    "import matplotlib.pyplot as plt\n",
    "import matplotlib as mpl\n",
    "\n",
    "fig, ax = plt.subplots(figsize=(6, 1))\n",
    "fig.subplots_adjust(bottom=0.5)\n",
    "\n",
    "cmap = mpl.cm.cool\n",
    "norm = mpl.colors.Normalize(vmin=5, vmax=10)\n",
    "\n",
    "cb1 = mpl.colorbar.ColorbarBase(ax, cmap=cmap,\n",
    "                                norm=norm,\n",
    "                                orientation='horizontal')\n",
    "cb1.set_label('Some Units')\n",
    "fig.savefig(\"colorbar.png\")"
   ]
  },
  {
   "cell_type": "markdown",
   "source": [
    "Load the file according to the parameters"
   ],
   "metadata": {
    "collapsed": false
   }
  },
  {
   "cell_type": "code",
   "execution_count": 23,
   "outputs": [
    {
     "name": "stdout",
     "text": [
      "Resources/100GB/StorageMaterial.NVMeSSD/12CPU/32MB\n"
     ],
     "output_type": "stream"
    }
   ],
   "source": [
    "def log_file_path(memtable_size,cpu_count,storage_device=\"StorageMaterial.NVMeSSD\",workload_size=100,prefix=\"Resources/\"):\n",
    "    return prefix + str(workload_size) +\"GB/\" \\\n",
    "           + \"%s/%s/%s\" % (\n",
    "               \"StorageMaterial.\"+material,\n",
    "               str(cpu_count)+\"CPU\",\n",
    "               str(memtable_size)+\"MB\")\n",
    "# you can test it like this\n",
    "\n",
    "print(log_file_path(32,12,\"StorageMaterial.NVMeSSD\"))"
   ],
   "metadata": {
    "collapsed": false,
    "pycharm": {
     "name": "#%% \n",
     "is_executing": false
    }
   }
  },
  {
   "cell_type": "markdown",
   "source": [
    "List all files according to the parameter lists"
   ],
   "metadata": {
    "collapsed": false,
    "pycharm": {
     "name": "#%% md\n"
    }
   }
  },
  {
   "cell_type": "code",
   "execution_count": 28,
   "outputs": [],
   "source": [
    "# materials = ['NVMeSSD','SATASSD','PM']\n",
    "materials = ['NVMeSSD']\n",
    "cpu_count_array = [12]\n",
    "memtable_size_array = [32]\n",
    "\n",
    "import os\n",
    "import glob\n",
    "def find_log_file(log_dir):\n",
    "    log_file = [filename for filename in glob.glob(\n",
    "                log_dir+\"/**\") if \"LOG\" in filename][0]\n",
    "    return log_file\n",
    "\n",
    "log_files = []\n",
    "\n",
    "for material in materials: \n",
    "    for cpu_count in cpu_count_array: \n",
    "        for memtable_size in memtable_size_array:\n",
    "            log_dir = log_file_path(memtable_size,cpu_count,\n",
    "                                  \"StorageMaterial.\"+material)\n",
    "            log_files.append(find_log_file(log_dir))"
   ],
   "metadata": {
    "collapsed": false,
    "pycharm": {
     "name": "#%% \n",
     "is_executing": false
    }
   }
  },
  {
   "cell_type": "code",
   "execution_count": 41,
   "outputs": [],
   "source": [
    "# importing and macro definition\n",
    "\n",
    "import re\n",
    "import json\n",
    "job_id_dict = {}\n",
    "event_row_dict = {}\n",
    "EVENTS_NEED_COLLECTED = ['compaction_started','compaction_finished']\n",
    "\n",
    "for event in EVENTS_NEED_COLLECTED:\n",
    "    event_row_dict[event] = {}\n",
    "    job_id_dict[event] = []"
   ],
   "metadata": {
    "collapsed": false,
    "pycharm": {
     "name": "#%% \n",
     "is_executing": false
    }
   }
  },
  {
   "cell_type": "markdown",
   "source": [
    "choose the first file from the list\n",
    "\n",
    "ps: the reason for use a dictation instead of a list to store the job id is for further modification, maybe we need to \n",
    "monitor the flush or other kinds of job."
   ],
   "metadata": {
    "collapsed": false,
    "pycharm": {
     "name": "#%% md\n"
    }
   }
  },
  {
   "cell_type": "code",
   "execution_count": 43,
   "outputs": [],
   "source": [
    "file = log_files[0]\n",
    "\n",
    "file_content = open(file,\"r\").readlines()\n",
    "\n",
    "for line in file_content:\n",
    "    line = re.search('(\\{.+\\})', line)\n",
    "    if line:\n",
    "        try:\n",
    "            log_row = json.loads(line[0])\n",
    "            job_id = int(log_row['job'])\n",
    "            current_event = log_row['event']\n",
    "            if current_event in EVENTS_NEED_COLLECTED:\n",
    "                if job_id not in job_id_dict[current_event]:\n",
    "                    event_row_dict[current_event][job_id] = []\n",
    "                    job_id_dict[current_event].append(job_id)\n",
    "                else:\n",
    "                    event_row_dict[current_event][job_id].append(log_row)\n",
    "        except json.decoder.JSONDecodeError:\n",
    "            pass\n",
    "        "
   ],
   "metadata": {
    "collapsed": false,
    "pycharm": {
     "name": "#%% \n",
     "is_executing": false
    }
   }
  },
  {
   "cell_type": "markdown",
   "source": [
    "Now paint it out"
   ],
   "metadata": {
    "collapsed": false,
    "pycharm": {
     "name": "#%% md\n"
    }
   }
  },
  {
   "cell_type": "code",
   "execution_count": 71,
   "outputs": [],
   "source": [
    "class CompactionDetail:\n",
    "    job_id=0\n",
    "    compaction_start_micro=0\n",
    "    compaction_latency_micro=0\n",
    "    compaction_cpu_micro=0\n",
    "    compaction_reason=\"\"\n",
    "    \n",
    "compaction_reason_dict = {}\n",
    "compaction_latencies = []\n",
    "compaction_cpu_time = []\n",
    "# group the compaction according to the reason\n",
    "for compaction_job in job_id_dict['compaction_started']:    \n",
    "    compaction_start_row = event_row_dict['compaction_started'][compaction_job][0]\n",
    "    compaction_finish_row = event_row_dict['compaction_finished'][compaction_job][0]\n",
    "    current_reason = compaction_start_row['compaction_reason']\n",
    "    \n",
    "    if current_reason not in compaction_reason_dict:\n",
    "        compaction_reason_dict[current_reason] = []\n",
    "    else:\n",
    "        compaction_reason_dict[current_reason].append(compaction_job)\n",
    "    compaction_latencies.append(compaction_finish_row['compaction_time_micros'])\n",
    "    compaction_cpu_time.append(compaction_finish_row['compaction_time_cpu_micros'])\n",
    "reason_count = len(compaction_reason_dict.keys())\n",
    "\n"
   ],
   "metadata": {
    "collapsed": false,
    "pycharm": {
     "name": "#%% \n",
     "is_executing": false
    }
   }
  },
  {
   "cell_type": "code",
   "execution_count": 74,
   "outputs": [
    {
     "data": {
      "text/plain": "<Figure size 36x432 with 1 Axes>",
      "image/png": "[encoded data removed]"
     },
     "metadata": {
      "needs_background": "light"
     },
     "output_type": "display_data"
    }
   ],
   "source": [
    "# we need reason_count + 1 subfigures,\n",
    "import matplotlib.pyplot as plt\n",
    "import matplotlib as mpl\n",
    "\n",
    "fig, color_bar = plt.subplots(figsize=(0.5, 6))\n",
    "# fig.subplots_adjust(left=0.5)\n",
    "\n",
    "cmap = mpl.cm.winter_r\n",
    "norm = mpl.colors.Normalize(vmin=min(compaction_cpu_time), vmax=max(compaction_cpu_time))\n",
    "\n",
    "cb1 = mpl.colorbar.ColorbarBase(color_bar, cmap=cmap,\n",
    "                                norm=norm,\n",
    "                                orientation='vertical')\n",
    "cb1.set_label('Processing Time(ms)')\n",
    "fig.savefig(\"colorbar.png\")"
   ],
   "metadata": {
    "collapsed": false,
    "pycharm": {
     "name": "#%% \n",
     "is_executing": false
    }
   }
  }
 ],
 "metadata": {
  "kernelspec": {
   "display_name": "Python 3",
   "language": "python",
   "name": "python3"
  },
  "language_info": {
   "codemirror_mode": {
    "name": "ipython",
    "version": 2
   },
   "file_extension": ".py",
   "mimetype": "text/x-python",
   "name": "python",
   "nbconvert_exporter": "python",
   "pygments_lexer": "ipython2",
   "version": "2.7.6"
  },
  "pycharm": {
   "stem_cell": {
    "cell_type": "raw",
    "source": [],
    "metadata": {
     "collapsed": false
    }
   }
  }
 },
 "nbformat": 4,
 "nbformat_minor": 0
}